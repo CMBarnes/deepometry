{
 "cells": [
  {
   "cell_type": "code",
   "execution_count": null,
   "metadata": {
    "collapsed": true
   },
   "outputs": [],
   "source": [
    "import glob\n",
    "import os.path\n",
    "\n",
    "import bioformats\n",
    "import javabridge\n",
    "import numpy\n",
    "\n",
    "import deepometry.parse"
   ]
  },
  {
   "cell_type": "markdown",
   "metadata": {},
   "source": [
    "# Parse\n",
    "\n",
    "Use `deepometry.parse` module to transform .CIF files to NumPy arrays. In this example, our .CIF images are stored at `/data/cifs` in subdirectories corresponding to the class label. Image filenames begin with the patient number, and there may be more than one image per patient per class label.\n",
    "\n",
    "    /data/cifs/\n",
    "        A/\n",
    "            001_foo.cif\n",
    "            001_bar.cif\n",
    "            002_foo.cif\n",
    "            003_foo.cif\n",
    "        B/\n",
    "            001_foo.cif\n",
    "            002_foo.cif\n",
    "            002_bar.cif\n",
    "            003_foo.cif\n",
    "        ...\n",
    "\n",
    "We aggregate each patient's data into a single numpy array, per-patient. The arrays are stored at `/data/parsed` in subdirectories corresponding to the input data's class label. Array filenames are the patient number.\n",
    "\n",
    "    /data/parsed/\n",
    "        A/\n",
    "            001.npy\n",
    "            002.npy\n",
    "            003.npy\n",
    "        B/\n",
    "            001.npy\n",
    "            002.npy\n",
    "            003.npy\n",
    "        ..."
   ]
  },
  {
   "cell_type": "code",
   "execution_count": null,
   "metadata": {
    "collapsed": true
   },
   "outputs": [],
   "source": [
    "javabridge.start_vm(class_path=bioformats.JARS, max_heap_size=\"8G\")"
   ]
  },
  {
   "cell_type": "code",
   "execution_count": null,
   "metadata": {
    "collapsed": true
   },
   "outputs": [],
   "source": [
    "src = \"/data/cifs\"\n",
    "\n",
    "dest = \"/data/parsed\"\n",
    "\n",
    "labels = [\"A\", \"B\", \"C\", \"D\"]"
   ]
  },
  {
   "cell_type": "code",
   "execution_count": null,
   "metadata": {
    "collapsed": true
   },
   "outputs": [],
   "source": [
    "patients = [\"001\", \"002\", \"003\"]"
   ]
  },
  {
   "cell_type": "code",
   "execution_count": null,
   "metadata": {
    "collapsed": true
   },
   "outputs": [],
   "source": [
    "channels = [0, 5, 6]"
   ]
  },
  {
   "cell_type": "code",
   "execution_count": null,
   "metadata": {
    "collapsed": true
   },
   "outputs": [],
   "source": [
    "image_size = 48"
   ]
  },
  {
   "cell_type": "code",
   "execution_count": null,
   "metadata": {
    "collapsed": true
   },
   "outputs": [],
   "source": [
    "for label in labels:\n",
    "    print(\"Parsing directory: {}\".format(label))\n",
    "    \n",
    "    src_dir = os.path.join(src, label)\n",
    "    \n",
    "    dest_dir = os.path.join(dest, label)\n",
    "    \n",
    "    for patient in patients:\n",
    "        pathnames = glob.glob(os.path.join(src_dir, \"{}*.cif\".format(patient)))\n",
    "                \n",
    "        images = [deepometry.parse.parse(pathname, image_size, channels) for pathname in pathnames]\n",
    "        \n",
    "        images = numpy.concatenate(images)\n",
    "        \n",
    "        numpy.save(os.path.join(dest_dir, \"{}.npy\".format(patient)), images)\n",
    "        \n",
    "        print(\"\\tparsed patient {}\".format(patient))"
   ]
  },
  {
   "cell_type": "code",
   "execution_count": null,
   "metadata": {
    "collapsed": true
   },
   "outputs": [],
   "source": [
    ""
   ]
  }
 ],
 "metadata": {
  "kernelspec": {
   "display_name": "Python 3",
   "language": "python",
   "name": "python3"
  },
  "language_info": {
   "codemirror_mode": {
    "name": "ipython",
    "version": 3.0
   },
   "file_extension": ".py",
   "mimetype": "text/x-python",
   "name": "python",
   "nbconvert_exporter": "python",
   "pygments_lexer": "ipython3",
   "version": "3.6.1"
  }
 },
 "nbformat": 4,
 "nbformat_minor": 0
}