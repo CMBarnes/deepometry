{
 "cells": [
  {
   "cell_type": "code",
   "execution_count": null,
   "metadata": {},
   "outputs": [],
   "source": [
    "import glob\n",
    "import os\n",
    "\n",
    "import numpy\n",
    "\n",
    "import deepometry.model"
   ]
  },
  {
   "cell_type": "markdown",
   "metadata": {},
   "source": [
    "# Fit\n",
    "\n",
    "Suppose we have the following directory structure where images from two experiments (`experiment_00` and `experiment_01`) have been classified as one of three classes (`class_A`, `class_B`, or `class_C`). Images are saved as NPY files:\n",
    "\n",
    "    /data/\n",
    "        experiment_00/\n",
    "            class_A/\n",
    "                32e88e1ac3a8f44bf8f77371155553b9.npy\n",
    "                3dc56a0c446942aa0da170acfa922091.npy  \n",
    "                ...\n",
    "            class_B/\n",
    "                8068ef7dcddd89da4ca9740bd2ccb31e.npy\n",
    "                8348deaa70dfc95c46bd02984d28b873.npy\n",
    "                ...\n",
    "            class_C/  \n",
    "                c1ecbca7bd98c01c1d3293b64cd6739a.npy\n",
    "                c56cfb8e7e7121dd822e47c67d07e2d4.npy\n",
    "                ...\n",
    "        experiment_01/\n",
    "            class_A/\n",
    "                3618e715e62a229aa78a7e373b49b888.npy\n",
    "                3cf53cea7f4db1cfd101e06c366c9868.npy\n",
    "                ...\n",
    "            class_B/\n",
    "                84949e1eba7802b00d4a1755fa9af15e.npy\n",
    "                852a1edbf5729fe8721e9e5404a8ad20.npy\n",
    "                ...\n",
    "            class_C/\n",
    "                c037169cda28a9403ec73806c09f4813.npy\n",
    "                c343d6f9fde4a9b55f6fa5464a1bbc3d.npy\n",
    "                ...\n",
    "                \n",
    "The data can be used to train a model to classify image data as one of the three classes. The `sample` and `load` functions defined below will select images to use for training the model and generate the labels for the training images.\n",
    "\n",
    "Suppose there is a large imbalance between the number of samples per class in each experiment. Undersampling across classes balances the data seen by the model during training. Additionally, undersampling can improve prediction accuracy in underrepresented classes. The `sample` function performs undersampling across classes (per-experiment)."
   ]
  },
  {
   "cell_type": "code",
   "execution_count": null,
   "metadata": {
    "collapsed": true
   },
   "outputs": [],
   "source": [
    "def _shape(pathname):\n",
    "    \"\"\"\n",
    "    Infer the shape of the sample data from a single sample.\n",
    "    \n",
    "    :param pathname: Path to a sample.\n",
    "    :return: Sample dimensions.\n",
    "    \"\"\"\n",
    "    return numpy.load(pathname).shape\n",
    "\n",
    "\n",
    "def load(pathnames, labels):\n",
    "    \"\"\"\n",
    "    Load training and target data.\n",
    "    \n",
    "    Assumes data is stored in a directory corresponding to some class label.\n",
    "\n",
    "    :param pathnames: List of image pathnames.\n",
    "    :param labels: List of class labels.\n",
    "    :return: Tuple (training, target) data, as NumPy arrays.\n",
    "    \"\"\"\n",
    "    x = numpy.empty((len(pathnames),) + _shape(pathnames[0]), dtype=numpy.uint8)\n",
    "\n",
    "    y = numpy.empty((len(pathnames),), dtype=numpy.uint8)\n",
    "\n",
    "    label_to_index = {label: index for index, label in enumerate(sorted(labels))}\n",
    "\n",
    "    for index, pathname in enumerate(pathnames):\n",
    "        label = os.path.split(os.path.dirname(pathname))[-1]\n",
    "\n",
    "        x[index] = numpy.load(pathname)\n",
    "\n",
    "        y[index] = label_to_index[label]\n",
    "\n",
    "    return x, y"
   ]
  },
  {
   "cell_type": "code",
   "execution_count": null,
   "metadata": {
    "collapsed": true
   },
   "outputs": [],
   "source": [
    "def sample(directories):\n",
    "    \"\"\"\n",
    "    Sample pathnames from directories. \n",
    "    \n",
    "    For each directory, samples are randomly selected equally across subdirectories.\n",
    "\n",
    "    :param directories: List of directories to select samples from. Assumes subdirectories of each directory\n",
    "                        correspond to class labels. Contents of subdirectories are NPY files containing data\n",
    "                        of that label.\n",
    "    :return: List of sampled pathnames.\n",
    "    \"\"\"\n",
    "    pathnames = []\n",
    "\n",
    "    for directory in directories:\n",
    "        subdirectories = sorted(glob.glob(os.path.join(directory, \"*\")))\n",
    "\n",
    "        subdirectory_pathnames = [glob.glob(os.path.join(subdirectory, \"*\")) for subdirectory in subdirectories]\n",
    "\n",
    "        nsamples = min([len(pathnames) for pathnames in subdirectory_pathnames])\n",
    "\n",
    "        pathnames += [list(numpy.random.permutation(pathnames)[:nsamples]) for pathnames in subdirectory_pathnames]\n",
    "\n",
    "    pathnames = sum(pathnames, [])\n",
    "\n",
    "    return pathnames"
   ]
  },
  {
   "cell_type": "code",
   "execution_count": null,
   "metadata": {
    "collapsed": true
   },
   "outputs": [],
   "source": [
    "directories = [\"/data/experiment_00\", \"/data/experiment_00\"]\n",
    "\n",
    "labels = [\"class_A\", \"class_B\", \"class_C\"]\n",
    "\n",
    "samples = sample(directories)\n",
    "\n",
    "x, y = load(samples, labels)"
   ]
  },
  {
   "cell_type": "markdown",
   "metadata": {},
   "source": [
    "The training and target data (`x` and `y`, respectively) is next passed to the model for training. The model is confiured to withhold 20% of the training data for validation. Use `validation_split` to adjust the size of the partition.\n",
    "\n",
    "The model will iterate over the training data at most 512 times, specified by `epochs`. Training will terminate early if the validation loss fails to improve for 20 epochs. Training and validation data is provided to the model in batches of 32 samples. Use `batch_size` to configure the number of samples. A smaller `batch_size` requires less memory."
   ]
  },
  {
   "cell_type": "code",
   "execution_count": null,
   "metadata": {
    "collapsed": true
   },
   "outputs": [],
   "source": [
    "model = deepometry.model.Model(shape=x.shape[1:], units=len(labels))\n",
    "\n",
    "model.compile()\n",
    "\n",
    "model.fit(\n",
    "    x,\n",
    "    y,\n",
    "    batch_size=32,\n",
    "    epochs=512,\n",
    "    validation_split=0.2,\n",
    "    verbose=1\n",
    ")"
   ]
  }
 ],
 "metadata": {
  "kernelspec": {
   "display_name": "Python 3",
   "language": "python",
   "name": "python3"
  },
  "language_info": {
   "codemirror_mode": {
    "name": "ipython",
    "version": 3
   },
   "file_extension": ".py",
   "mimetype": "text/x-python",
   "name": "python",
   "nbconvert_exporter": "python",
   "pygments_lexer": "ipython3",
   "version": "3.6.1"
  }
 },
 "nbformat": 4,
 "nbformat_minor": 2
}
